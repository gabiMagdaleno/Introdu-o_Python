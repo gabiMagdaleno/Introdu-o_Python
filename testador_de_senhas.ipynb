{
  "nbformat": 4,
  "nbformat_minor": 0,
  "metadata": {
    "colab": {
      "provenance": [],
      "authorship_tag": "ABX9TyM38/c2L77REUJd1IdcVz/k",
      "include_colab_link": true
    },
    "kernelspec": {
      "name": "python3",
      "display_name": "Python 3"
    },
    "language_info": {
      "name": "python"
    }
  },
  "cells": [
    {
      "cell_type": "markdown",
      "metadata": {
        "id": "view-in-github",
        "colab_type": "text"
      },
      "source": [
        "<a href=\"https://colab.research.google.com/github/gabiMagdaleno/Introdu-o_Python/blob/main/testador_de_senhas.ipynb\" target=\"_parent\"><img src=\"https://colab.research.google.com/assets/colab-badge.svg\" alt=\"Open In Colab\"/></a>"
      ]
    },
    {
      "cell_type": "code",
      "execution_count": null,
      "metadata": {
        "colab": {
          "base_uri": "https://localhost:8080/"
        },
        "id": "Xxi0htcNX9lb",
        "outputId": "85627e16-525d-4418-c4a5-6454dd98b0b5"
      },
      "outputs": [
        {
          "output_type": "stream",
          "name": "stdout",
          "text": [
            "Digite a senha: Mika123@\n",
            "A senha é: Forte\n"
          ]
        }
      ],
      "source": [
        "#@title Testador de senhas\n",
        "\n",
        "import re\n",
        "\n",
        "def verificar_senha(senha):\n",
        "\n",
        "  pontuacao = 0\n",
        "\n",
        "  if len(senha) >= 8:\n",
        "    pontuacao += 1\n",
        "\n",
        "\n",
        "  if re.search('[A-Z]', senha):\n",
        "    pontuacao += 1\n",
        "  if re.search('[a-z]', senha):\n",
        "    pontuacao += 1\n",
        "  if re.search('[0-9]', senha):\n",
        "    pontuacao += 1\n",
        "  if re.search('[^\\w\\s]', senha):\n",
        "    pontuacao += 1\n",
        "\n",
        "  if not re.search('(\\\\d{4})|(\\\\w{4})', senha):\n",
        "    pontuacao += 1\n",
        "\n",
        "  if pontuacao == 0:\n",
        "    return \"Muito fraca\"\n",
        "  elif pontuacao <= 2:\n",
        "    return \"Fraca\"\n",
        "  elif pontuacao <= 4:\n",
        "    return \"Média\"\n",
        "  else:\n",
        "    return \"Forte\"\n",
        "\n",
        "senha = input(\"Digite a senha: \")\n",
        "\n",
        "resultado = verificar_senha(senha)\n",
        "\n",
        "print(\"A senha é:\", resultado)"
      ]
    }
  ]
}