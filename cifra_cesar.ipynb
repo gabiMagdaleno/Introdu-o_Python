{
  "nbformat": 4,
  "nbformat_minor": 0,
  "metadata": {
    "colab": {
      "provenance": [],
      "include_colab_link": true
    },
    "kernelspec": {
      "name": "python3",
      "display_name": "Python 3"
    },
    "language_info": {
      "name": "python"
    }
  },
  "cells": [
    {
      "cell_type": "markdown",
      "metadata": {
        "id": "view-in-github",
        "colab_type": "text"
      },
      "source": [
        "<a href=\"https://colab.research.google.com/github/gabiMagdaleno/Introdu-o_Python/blob/main/cifra_cesar.ipynb\" target=\"_parent\"><img src=\"https://colab.research.google.com/assets/colab-badge.svg\" alt=\"Open In Colab\"/></a>"
      ]
    },
    {
      "cell_type": "code",
      "source": [
        "# @title Cifra cesar\n",
        "\n",
        "def cifra_cesar(texto, deslocamento):\n",
        "    \"\"\"\n",
        "    Criptografa ou descriptografa um texto usando a cifra de César.\n",
        "1\n",
        "    Args:\n",
        "        texto (str): Texto a ser cifrado ou descriptografado.\n",
        "        deslocamento (int): Número de posições para deslocar as letras.\n",
        "\n",
        "    Returns:\n",
        "        str: Texto cifrado ou descriptografado.\n",
        "    \"\"\"\n",
        "\n",
        "    texto_cifrado = \"\"\n",
        "    for letra in texto:\n",
        "        if letra.isalpha():\n",
        "            if letra.isupper():\n",
        "                indice = ord(letra) - ord('A')\n",
        "                indice = (indice + deslocamento) % 26\n",
        "                letra_cifrada = chr(indice + ord('A'))\n",
        "            else:\n",
        "                indice = ord(letra) - ord('a')\n",
        "                indice = (indice + deslocamento) % 26\n",
        "                letra_cifrada = chr(indice + ord('a'))\n",
        "        else:\n",
        "            letra_cifrada = letra\n",
        "        texto_cifrado += letra_cifrada\n",
        "    return texto_cifrado\n",
        "\n",
        "if __name__ == \"__main__\":\n",
        "    while True:\n",
        "        try:\n",
        "            opcao = input(\"Digite 'c' para cifrar ou 'd' para decifrar: \").lower()\n",
        "            if opcao not in ['c', 'd']:\n",
        "                print(\"Opção inválida. Por favor, digite 'c' ou 'd'.\")\n",
        "                continue\n",
        "\n",
        "            texto = input(\"Digite o texto: \")\n",
        "            deslocamento = int(input(\"Digite o valor do deslocamento: \").strip())\n",
        "\n",
        "            if opcao == 'c':\n",
        "                resultado = cifra_cesar(texto, deslocamento)\n",
        "                print(\"Texto cifrado:\", resultado)\n",
        "            elif opcao == 'd':\n",
        "                resultado = cifra_cesar(texto, -deslocamento)\n",
        "                print(\"Texto descriptografado:\", resultado)\n",
        "            else:\n",
        "                print(\"Opção inválida.\")\n",
        "            break\n",
        "        except ValueError:\n",
        "            print(\"Valor de deslocamento inválido. Por favor, digite um número inteiro.\")\n",
        "\n",
        "#Análise detalhada do código da cifra de César em Python\n",
        "# Explicação do Código:\n",
        "#1. Definição da função cifra_cesar:\n",
        "#Parâmetros:\n",
        "#texto: A string a ser cifrada ou descriptografada.\n",
        "#deslocamento: O número de posições para deslocar as letras no alfabeto.\n",
        "#Retorno: A string cifrada ou descriptografada.\n",
        "\n",
        "#2. Inicialização da variável texto_cifrado:\n",
        "#Cria uma string vazia para armazenar o texto cifrado.\n",
        "\n",
        "#3. Loop for para cada letra do texto:\n",
        "#Verifica se a letra é alfabética:\n",
        "#Se for, verifica se é maiúscula ou minúscula.\n",
        "#Cálculo do índice:\n",
        "#Obtém o índice da letra no alfabeto (0 para 'A', 25 para 'Z').\n",
        "#Adiciona o deslocamento ao índice e aplica o módulo 26 para garantir que o índice permaneça dentro do intervalo do alfabeto.\n",
        "#Obtenção da letra cifrada:\n",
        "#Converte o índice de volta para uma letra usando a função chr().\n",
        "#Concatenação da letra cifrada:\n",
        "#Adiciona a letra cifrada à string texto_cifrado.\n",
        "\n",
        "#4. Tratamento de caracteres não alfabéticos:\n",
        "#Se a letra não for alfabética, ela é adicionada ao texto cifrado sem modificações.\n",
        "\n",
        "#5. Bloco if __name__ == \"__main__\"::\n",
        "#Loop infinito: Permite cifrar ou decifrar múltiplos textos.\n",
        "#Entrada do usuário:\n",
        "#Solicita a opção de cifrar ou decifrar.\n",
        "#Solicita o texto a ser cifrado/descriptografado.\n",
        "#Solicita o valor do deslocamento.\n",
        "#Chamada da função cifra_cesar:\n",
        "#Chama a função com os parâmetros fornecidos pelo usuário.\n",
        "#Para descriptografar, o deslocamento é negativo.\n",
        "#Exibição do resultado:\n",
        "#Imprime o texto cifrado ou descriptografado.\n",
        "#Como funciona a Cifra de César no código:\n",
        "#Cifragem: Ao adicionar o deslocamento ao índice da letra, cada letra é \"deslocada\" para a frente no alfabeto.\n",
        "#Descriptografia: Ao subtrair o deslocamento (ou adicionar um deslocamento negativo), as letras são \"deslocadas\" para trás no alfabeto, revertendo o processo de cifragem.\n",
        "#Módulo 26: Garante que o índice permaneça dentro do intervalo do alfabeto (0 a 25), \"enrolando\" as letras para o início do alfabeto quando o índice ultrapassa 25.\n",
        "\n",
        "#Exemplo:\n",
        "#Se o texto for \"CESAR\" e o deslocamento for 3, o código fará o seguinte:\n",
        "\n",
        "#'C' (índice 2) + 3 = 5 (índice de 'F')\n",
        "#'E' (índice 4) + 3 = 7 (índice de 'H')\n",
        "#'S' (índice 18) + 3 = 21 (índice de 'V')\n",
        "#'A' (índice 0) + 3 = 3 (índice de 'D')\n",
        "#'R' (índice 17) + 3 = 20 (índice de 'U')\n",
        "#O texto cifrado será \"FHVDU\"."
      ],
      "metadata": {
        "colab": {
          "base_uri": "https://localhost:8080/"
        },
        "id": "uFke9LuIn7db",
        "outputId": "1a08665f-9054-4baa-987d-fdbc819d0419"
      },
      "execution_count": null,
      "outputs": [
        {
          "output_type": "stream",
          "name": "stdout",
          "text": [
            "Digite 'c' para cifrar ou 'd' para decifrar: ghi\n",
            "Opção inválida. Por favor, digite 'c' ou 'd'.\n",
            "Digite 'c' para cifrar ou 'd' para decifrar: 1\n",
            "Opção inválida. Por favor, digite 'c' ou 'd'.\n",
            "Digite 'c' para cifrar ou 'd' para decifrar: c\n",
            "Digite o texto: ghi\n",
            "Digite o valor do deslocamento: 1\n",
            "Texto cifrado: hij\n"
          ]
        }
      ]
    }
  ]
}