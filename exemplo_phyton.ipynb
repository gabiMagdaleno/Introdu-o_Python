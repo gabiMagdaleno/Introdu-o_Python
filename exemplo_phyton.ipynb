{
  "nbformat": 4,
  "nbformat_minor": 0,
  "metadata": {
    "colab": {
      "provenance": [],
      "include_colab_link": true
    },
    "kernelspec": {
      "name": "python3",
      "display_name": "Python 3"
    },
    "language_info": {
      "name": "python"
    }
  },
  "cells": [
    {
      "cell_type": "markdown",
      "metadata": {
        "id": "view-in-github",
        "colab_type": "text"
      },
      "source": [
        "<a href=\"https://colab.research.google.com/github/gabiMagdaleno/Introdu-o_Python/blob/main/exemplo_phyton.ipynb\" target=\"_parent\"><img src=\"https://colab.research.google.com/assets/colab-badge.svg\" alt=\"Open In Colab\"/></a>"
      ]
    },
    {
      "cell_type": "code",
      "execution_count": null,
      "metadata": {
        "id": "LXmfMxPDX9G0",
        "outputId": "368103de-9e5a-4bbd-83f0-34f36666e1f0",
        "colab": {
          "base_uri": "https://localhost:8080/"
        },
        "cellView": "form"
      },
      "outputs": [
        {
          "output_type": "stream",
          "name": "stdout",
          "text": [
            " Olá mundo\n"
          ]
        }
      ],
      "source": [
        "# @title Exercicio 1\n",
        "print(\" Olá mundo\")"
      ]
    },
    {
      "cell_type": "code",
      "source": [
        "# @title Exercicio 2\n",
        "\n",
        "numero1 =  int (input(\"Digite numero: \"))\n",
        "numero2 = int (input(\"Digite numero: \"))\n",
        "numero3 = int (input(\"Digite numero: \"))\n",
        "\n",
        "soma = numero1 + numero2 + numero3\n",
        "\n",
        "subtracao = numero1 - numero2 - numero3\n",
        "\n",
        "multiplicacao = numero1 * numero2 * numero3\n",
        "\n",
        "divisao = numero1 / numero2 / numero3\n",
        "\n",
        "print(\"Soma:\", soma)\n",
        "print(\"Subtração:\", subtracao)\n",
        "print(\"Multiplicação:\", multiplicacao)\n",
        "print(\"Divisão:\", divisao)"
      ],
      "metadata": {
        "colab": {
          "base_uri": "https://localhost:8080/"
        },
        "id": "qdL3INmdaqXj",
        "outputId": "809030b6-3235-405a-875b-e526547ecb79"
      },
      "execution_count": null,
      "outputs": [
        {
          "output_type": "stream",
          "name": "stdout",
          "text": [
            "Digite numero: 5\n",
            "Digite numero: 5\n",
            "Digite numero: 5\n",
            "Soma: 15\n",
            "Subtração: -5\n",
            "Multiplicação: 125\n",
            "Divisão: 0.2\n"
          ]
        }
      ]
    },
    {
      "cell_type": "code",
      "source": [
        "# @title Exercicio 3\n",
        "nome = input(\"Digite seu nome: \")\n",
        "dataNasc =input(\"Digite sua data de nascimento: \")\n",
        "curso =input(\"Digite seu curso: \")\n",
        "\n",
        "print(\"Olá,\", nome + \"!\")\n",
        "\n",
        "print(\"Seu nascimento é:\", dataNasc + \"!\")\n",
        "\n",
        "print(\"Seu curso é:\", curso + \"!\")"
      ],
      "metadata": {
        "colab": {
          "base_uri": "https://localhost:8080/"
        },
        "cellView": "form",
        "id": "N_0koEZCbFcF",
        "outputId": "dac95649-5498-4002-8bee-38f8147798dc"
      },
      "execution_count": null,
      "outputs": [
        {
          "output_type": "stream",
          "name": "stdout",
          "text": [
            "Digite seu nome: Gabriela\n",
            "Digite sua data de nascimento: 20/12/2004\n",
            "Digite seu curso: Desenvolvimento de sistemas\n",
            "Olá, Gabriela!\n",
            "Seu nascimento é: 20/12/2004!\n",
            "Seu curso é: Desenvolvimento de sistemas!\n"
          ]
        }
      ]
    },
    {
      "cell_type": "code",
      "source": [
        "# @title Exercicio 4\n",
        "numero = int(input(\"Digite um número: \"))\n",
        "if numero % 2 == 0:\n",
        "  print(\"O número é par.\")\n",
        "else:\n",
        "  print(\"O número é ímpar.\")"
      ],
      "metadata": {
        "colab": {
          "base_uri": "https://localhost:8080/"
        },
        "id": "Bx_iXey-bKsg",
        "outputId": "27e4b7d9-85df-4331-e952-b51c9435548b",
        "cellView": "form"
      },
      "execution_count": null,
      "outputs": [
        {
          "output_type": "stream",
          "name": "stdout",
          "text": [
            "Digite um número: 4\n",
            "O número é par.\n"
          ]
        }
      ]
    },
    {
      "cell_type": "code",
      "source": [
        "# @title Exercicio 5\n",
        "for i in range(1, 11):\n",
        "  print(i)"
      ],
      "metadata": {
        "colab": {
          "base_uri": "https://localhost:8080/"
        },
        "id": "T1OW2CPzbVAu",
        "outputId": "48dc9dd1-094b-4fd4-f1b4-71f2fe4f546d",
        "cellView": "form"
      },
      "execution_count": null,
      "outputs": [
        {
          "output_type": "stream",
          "name": "stdout",
          "text": [
            "1\n",
            "2\n",
            "3\n",
            "4\n",
            "5\n",
            "6\n",
            "7\n",
            "8\n",
            "9\n",
            "10\n"
          ]
        }
      ]
    },
    {
      "cell_type": "code",
      "source": [
        "# @title Exercicios um pouco mais complexos- exercicio 1\n",
        "\n",
        "num1 = float(input(\"Digite o primeiro número: \"))\n",
        "num2 = float(input(\"Digite o segundo número: \"))\n",
        "operacao = input(\"Digite a operação (+, -, *, /, %, ==, >=, <=, **): \")\n",
        "\n",
        "if operacao == \"+\":\n",
        "  resultado = num1 + num2\n",
        "elif operacao == \"-\":\n",
        "  resultado = num1 - num2\n",
        "elif operacao == \"*\":\n",
        "  resultado = num1 * num2\n",
        "elif operacao == \"/\":\n",
        "  resultado = num1 / num2\n",
        "elif operacao == \"%\":\n",
        "  resultado =  num1 % num2\n",
        "elif operacao == \"==\":\n",
        "  resultado = num1 == num2\n",
        "elif operacao == \">=\":\n",
        "  resultado = num1 >= num2\n",
        "elif operacao == \"<=\":\n",
        "  resultado = num1 <= num2\n",
        "elif operacao == \"**\":\n",
        "  resultado = num1 ** num2\n",
        "\n",
        "else:\n",
        "  print(\"Operação inválida.\")\n",
        "print(\"Resultado:\", resultado)\n",
        "\n"
      ],
      "metadata": {
        "colab": {
          "base_uri": "https://localhost:8080/"
        },
        "id": "lUMtYQ9UF73b",
        "outputId": "3cc6a29d-314e-43b5-b00d-250e8f7015f8"
      },
      "execution_count": null,
      "outputs": [
        {
          "output_type": "stream",
          "name": "stdout",
          "text": [
            "Digite o primeiro número: 4\n",
            "Digite o segundo número: 4\n",
            "Digite a operação (+, -, *, /, %, ==, >=, <=, **): **\n",
            "Resultado: 256.0\n"
          ]
        }
      ]
    },
    {
      "cell_type": "code",
      "source": [
        "# @title Exercicio 2\n",
        "nomes = [\"Alice\", \"Bob\", \"Charlie\", \"Gabriela\", \"Sueli\", \"Jorge\", \"Jefersson\", \"Carlos\"]\n",
        "for nome in nomes:\n",
        "  print(nome)"
      ],
      "metadata": {
        "colab": {
          "base_uri": "https://localhost:8080/"
        },
        "cellView": "form",
        "id": "T0bqQaBrHkSs",
        "outputId": "619eae73-b63b-4433-8d34-fc78570fc145"
      },
      "execution_count": null,
      "outputs": [
        {
          "output_type": "stream",
          "name": "stdout",
          "text": [
            "Alice\n",
            "Bob\n",
            "Charlie\n",
            "Gabriela\n",
            "Sueli\n",
            "Jorge\n",
            "Jefersson\n",
            "Carlos\n"
          ]
        }
      ]
    },
    {
      "cell_type": "code",
      "source": [
        "# @title Exercicio 3\n",
        "import math\n",
        "\n",
        "def calcular_area_circulo(raio):\n",
        "  area = math.pi * raio**2\n",
        "  return area\n",
        "\n",
        "raio = float(input(\"Digite o raio do círculo: \"))\n",
        "area = calcular_area_circulo(raio)\n",
        "print(\"A área do círculo é:\", area)"
      ],
      "metadata": {
        "colab": {
          "base_uri": "https://localhost:8080/"
        },
        "cellView": "form",
        "id": "cQJ9Y2TmHrj8",
        "outputId": "008e20ca-037e-4b3a-81f6-7feb3546a057"
      },
      "execution_count": null,
      "outputs": [
        {
          "output_type": "stream",
          "name": "stdout",
          "text": [
            "Digite o raio do círculo: 4\n",
            "A área do círculo é: 50.26548245743669\n"
          ]
        }
      ]
    }
  ]
}