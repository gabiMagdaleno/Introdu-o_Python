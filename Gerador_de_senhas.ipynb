{
  "nbformat": 4,
  "nbformat_minor": 0,
  "metadata": {
    "colab": {
      "provenance": [],
      "include_colab_link": true
    },
    "kernelspec": {
      "name": "python3",
      "display_name": "Python 3"
    },
    "language_info": {
      "name": "python"
    }
  },
  "cells": [
    {
      "cell_type": "markdown",
      "metadata": {
        "id": "view-in-github",
        "colab_type": "text"
      },
      "source": [
        "<a href=\"https://colab.research.google.com/github/gabiMagdaleno/Introdu-o_Python/blob/main/Gerador_de_senhas.ipynb\" target=\"_parent\"><img src=\"https://colab.research.google.com/assets/colab-badge.svg\" alt=\"Open In Colab\"/></a>"
      ]
    },
    {
      "cell_type": "code",
      "execution_count": null,
      "metadata": {
        "colab": {
          "base_uri": "https://localhost:8080/"
        },
        "id": "oo1AsGDWQoWV",
        "outputId": "c4ee82dd-7150-426e-ff26-a3811945229d"
      },
      "outputs": [
        {
          "output_type": "stream",
          "name": "stdout",
          "text": [
            "\n",
            "Gerador de Senhas\n",
            "1. Senha com letras, números e símbolos\n",
            "2. Senha com letras e números\n",
            "3. Senha com letras e símbolos\n",
            "4. Sair\n",
            "Escolha uma opção: 3\n",
            "Digite o tamanho da senha:11\n",
            "\n",
            "Gerador de Senhas\n",
            "1. Senha com letras, números e símbolos\n",
            "2. Senha com letras e números\n",
            "3. Senha com letras e símbolos\n",
            "4. Sair\n",
            "Escolha uma opção: 4\n",
            "Saindo...\n"
          ]
        },
        {
          "output_type": "execute_result",
          "data": {
            "text/plain": [
              "5"
            ]
          },
          "metadata": {},
          "execution_count": 2
        }
      ],
      "source": [
        "import random\n",
        "import string\n",
        "\n",
        "def gerar_senha(tamanho, incluir_numeros=True, incluir_simbolos= True):\n",
        "  caracteres_base = string.ascii_letters\n",
        "\n",
        "  if incluir_numeros:\n",
        "    caracteres_base += string.digits\n",
        "  if incluir_simbolos:\n",
        "   caracteres_base += string.punctuation\n",
        "\n",
        "  senha = ''.join(random.choice(caracteres_base) for _ in range (tamanho))\n",
        "  return senha\n",
        "\n",
        "while True:\n",
        "\n",
        "  print(\"\\nGerador de Senhas\")\n",
        "  print(\"1. Senha com letras, números e símbolos\")\n",
        "  print(\"2. Senha com letras e números\")\n",
        "  print(\"3. Senha com letras e símbolos\")\n",
        "  print(\"4. Sair\")\n",
        "\n",
        "  opcao = input(\"Escolha uma opção: \")\n",
        "\n",
        "  if opcao == '1':\n",
        "      tamanho = int(input(\"Digite o tamanho da senha: \"))\n",
        "      senha = gerar_senha(tamanho)\n",
        "      print(f\"Senha gerada: {senha}\")\n",
        "\n",
        "  elif opcao == '2':\n",
        "      tamanho = int(input(\"Digite o tamanho da senha:\"))\n",
        "      senha = gerar_senha(tamanho, incluir_simbolos=False)\n",
        "      print(f\"Senha gerada: {senha}\")\n",
        "  elif opcao == '3':\n",
        "      tamanho = int(input(\"Digite o tamanho da senha:\"))\n",
        "      senha = gerar_senha(tamanho, incluir_numeros=False)\n",
        "  elif opcao == '4':\n",
        "      print(\"Saindo...\")\n",
        "      break\n",
        "  else:\n",
        "      print(\"Opção invalída. Tente novamente\")\n",
        "\n",
        "5\n",
        "\n",
        "\n",
        "\n",
        "\n"
      ]
    }
  ]
}